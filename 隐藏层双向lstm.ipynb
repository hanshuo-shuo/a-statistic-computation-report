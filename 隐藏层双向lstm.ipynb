{
 "cells": [
  {
   "cell_type": "markdown",
   "metadata": {},
   "source": [
    "### 比较不同hidden-size对结果的影响\n",
    "#### 我们选择hidden-size=2,3,4来呈现结果\n",
    "### 1.hidden-size=4（原结果）"
   ]
  },
  {
   "cell_type": "code",
   "execution_count": 9,
   "metadata": {
    "scrolled": true
   },
   "outputs": [
    {
     "name": "stderr",
     "output_type": "stream",
     "text": [
      "<timed exec>:36: UserWarning: To copy construct from a tensor, it is recommended to use sourceTensor.clone().detach() or sourceTensor.clone().detach().requires_grad_(True), rather than torch.tensor(sourceTensor).\n"
     ]
    },
    {
     "name": "stdout",
     "output_type": "stream",
     "text": [
      "Epoch:     9, Loss: 6.9120e-01, ACC: 4.68549e-01\n",
      "Epoch:    19, Loss: 6.9090e-01, ACC: 4.67736e-01\n",
      "Epoch:    29, Loss: 6.9056e-01, ACC: 4.69262e-01\n",
      "Epoch:    39, Loss: 6.9021e-01, ACC: 4.66525e-01\n",
      "Epoch:    49, Loss: 6.9012e-01, ACC: 4.67440e-01\n",
      "Epoch:    59, Loss: 6.9016e-01, ACC: 4.69403e-01\n",
      "Epoch:    69, Loss: 6.8937e-01, ACC: 4.66781e-01\n",
      "Epoch:    79, Loss: 6.8915e-01, ACC: 4.65739e-01\n",
      "Epoch:    89, Loss: 6.8924e-01, ACC: 4.68045e-01\n",
      "Epoch:    99, Loss: 6.8855e-01, ACC: 4.66633e-01\n",
      "Wall time: 22min 26s\n"
     ]
    }
   ],
   "source": [
    "%%time\n",
    "class LSTMRegression(nn.Module):\n",
    "    def __init__(self, input_size, hidden_size, output_size=1, num_layers=2,bidirectional=True):\n",
    "        super().__init__()\n",
    "        self.lstm = nn.LSTM(input_size, hidden_size, num_layers,batch_first=True,bidirectional=True)\n",
    "        self.linear = nn.Linear(2*hidden_size, output_size)\n",
    "    \n",
    "    def forward(self, x):\n",
    "        x, _ = self.lstm(x) # (seq, batch, hidden)\n",
    "        s, b, h = x.shape\n",
    "#         print(s,b)\n",
    "        x = x.contiguous().view(s*b, h) # 转换成线性层的输入格式\n",
    "        x = self.linear(x)\n",
    "        x = x.view(s, b, -1)\n",
    "        return x\n",
    "\n",
    "\n",
    "\n",
    "torch.manual_seed(7) #cpu\n",
    "torch.cuda.manual_seed(7) #gpu\n",
    " \n",
    "np.random.seed(7) #numpy\n",
    "random.seed(7) # random and transforms\n",
    "torch.backends.cudnn.deterministic=True #cudnn\n",
    "\n",
    "model = LSTMRegression(input_size=240, hidden_size=4, output_size=1)\n",
    "\n",
    "criterion = torch.nn.BCEWithLogitsLoss()     #交叉熵BCEWithLogitsLoss()和MultiLabelSoftMarginLoss()\n",
    "#criterion = torch.nn.CrossEntropyLoss()\n",
    "optimizer = optim.Adam(model.parameters(), lr=1e-3)\n",
    "#optimizer = optim.SGD(model.parameters(), lr=1e-1)\n",
    "\n",
    "epochs = 100\n",
    "batch_size = 40\n",
    "batch = X_train.shape[0] // batch_size\n",
    "\n",
    "torch_dataset = Data.TensorDataset(torch.tensor(X_train), torch.tensor(Y_train))\n",
    "# 把 dataset 放入 DataLoader\n",
    "loader = Data.DataLoader(\n",
    "    dataset=torch_dataset,  # torch TensorDataset format\n",
    "    batch_size=batch_size,  # mini batch size\n",
    "    shuffle=True,  #\n",
    "    num_workers=2,  # 多线程来读数据\n",
    ")\n",
    "\n",
    "loss_epoch = np.zeros(epochs)\n",
    "acc_epoch = np.zeros(epochs)\n",
    "for epoch in range(epochs):\n",
    "    acc_epo = 0\n",
    "    loss_ep = np.array([])\n",
    "    acc_ep = np.array([])\n",
    "    for step,(var_x,var_y) in enumerate(loader):\n",
    "        out = model(var_x)\n",
    "        out_f = out.detach().clone().numpy()\n",
    "        var_yf = var_y.detach().clone().numpy()\n",
    "        loss = criterion(out, var_y)\n",
    "        loss_f = loss.detach().clone().numpy()\n",
    "        acc_ep = np.append(acc_ep,acc(out_f,var_yf))\n",
    "        loss_ep = np.append(loss_ep,loss_f)\n",
    "\n",
    "        optimizer.zero_grad()\n",
    "        loss.backward()\n",
    "        optimizer.step()\n",
    "        \n",
    "    if (epoch + 1) % 10 == 0:\n",
    "        #print(f'Epoch: {epoch:5d}, Loss: {loss.item():.4e}, Acc:{acc_epo/(X_train.shape[0]*X_train.shape[1]):.4e}')\n",
    "        print(f'Epoch: {epoch:5d}, Loss: {np.mean(loss_ep):.4e}, ACC: {np.mean(acc_ep):.5e}')\n",
    "        \n",
    "    loss_epoch[epoch] = np.mean(loss_ep)\n",
    "    acc_epoch[epoch] = np.mean(acc_ep)"
   ]
  },
  {
   "cell_type": "code",
   "execution_count": 10,
   "metadata": {},
   "outputs": [
    {
     "data": {
      "text/plain": [
       "array([0., 0., 0., 0., 0., 0., 0., 0., 0.])"
      ]
     },
     "execution_count": 10,
     "metadata": {},
     "output_type": "execute_result"
    }
   ],
   "source": [
    "np.zeros(9)"
   ]
  },
  {
   "cell_type": "code",
   "execution_count": 11,
   "metadata": {},
   "outputs": [],
   "source": [
    "# test\n",
    "X_valid = X_valid.reshape(-1,198,240)\n",
    "#X_valid = torch.from_numpy(X_valid)\n",
    "Y_pred = model(X_valid)\n",
    "\n",
    "kind = 3\n",
    "Y_pred = torch.squeeze(Y_pred,2)\n",
    "Y_pred = Y_pred.clone().detach().numpy()\n",
    "pred_acc = acc(Y_pred,Y_valid)"
   ]
  },
  {
   "cell_type": "code",
   "execution_count": 12,
   "metadata": {},
   "outputs": [
    {
     "data": {
      "image/png": "[encoded data removed]",
      "text/plain": [
       "<Figure size 432x288 with 1 Axes>"
      ]
     },
     "metadata": {
      "needs_background": "light"
     },
     "output_type": "display_data"
    }
   ],
   "source": [
    "Y_pred_re = Y_pred[:,kind]\n",
    "Y_pred_re[Y_pred_re>0] = 1\n",
    "Y_pred_re[Y_pred_re<=0] = 0\n",
    "k = len(Y_pred_re)\n",
    "series = np.arange(1,k,k//100)\n",
    "\n",
    "fig = plt.figure()\n",
    "ax = plt.subplot()\n",
    "type1 = ax.scatter(index_valid[series], Y_valid[series,kind], alpha=0.5,color='b',label='groundtruth') \n",
    "type2 = ax.scatter(index_valid[series], Y_pred_re[series], alpha=0.3,color='r',label='prediction') \n",
    "plt.xlabel(\"date time\")\n",
    "plt.ylabel(\"0 for fall, 1 for rise\")\n",
    "ax.legend((type1, type2), (u'groundtruth', u'prediction'), loc='best')\n",
    "plt.show()"
   ]
  },
  {
   "cell_type": "code",
   "execution_count": 13,
   "metadata": {},
   "outputs": [
    {
     "data": {
      "image/png": "[encoded data removed]",
      "text/plain": [
       "<Figure size 432x288 with 1 Axes>"
      ]
     },
     "metadata": {
      "needs_background": "light"
     },
     "output_type": "display_data"
    }
   ],
   "source": [
    "plt.plot(loss_epoch, 'r-', label='loss')\n",
    "plt.plot(acc_epoch, 'b-', label='accurate rate')\n",
    "plt.legend(loc='best')\n",
    "plt.show()"
   ]
  },
  {
   "cell_type": "code",
   "execution_count": null,
   "metadata": {},
   "outputs": [],
   "source": []
  },
  {
   "cell_type": "code",
   "execution_count": 16,
   "metadata": {},
   "outputs": [
    {
     "name": "stderr",
     "output_type": "stream",
     "text": [
      "<ipython-input-16-ce13f6468cb0>:12: UserWarning: To copy construct from a tensor, it is recommended to use sourceTensor.clone().detach() or sourceTensor.clone().detach().requires_grad_(True), rather than torch.tensor(sourceTensor).\n",
      "  torch_dataset = Data.TensorDataset(torch.tensor(X_train), torch.tensor(Y_train))\n"
     ]
    },
    {
     "name": "stdout",
     "output_type": "stream",
     "text": [
      "Epoch:     9, Loss: 6.9141e-01, ACC: 4.69854e-01\n",
      "Epoch:    19, Loss: 6.9111e-01, ACC: 4.67951e-01\n",
      "Epoch:    29, Loss: 6.9093e-01, ACC: 4.67426e-01\n",
      "Epoch:    39, Loss: 6.9100e-01, ACC: 4.68704e-01\n",
      "Epoch:    49, Loss: 6.9095e-01, ACC: 4.69793e-01\n",
      "Epoch:    59, Loss: 6.9030e-01, ACC: 4.67346e-01\n",
      "Epoch:    69, Loss: 6.9027e-01, ACC: 4.68718e-01\n",
      "Epoch:    79, Loss: 6.8982e-01, ACC: 4.66492e-01\n",
      "Epoch:    89, Loss: 6.8946e-01, ACC: 4.66586e-01\n",
      "Epoch:    99, Loss: 6.8926e-01, ACC: 4.65880e-01\n"
     ]
    }
   ],
   "source": [
    "model = LSTMRegression(input_size=240, hidden_size=2, output_size=1)\n",
    "\n",
    "criterion = torch.nn.BCEWithLogitsLoss()     #交叉熵BCEWithLogitsLoss()和MultiLabelSoftMarginLoss()\n",
    "#criterion = torch.nn.CrossEntropyLoss()\n",
    "optimizer = optim.Adam(model.parameters(), lr=1e-3)\n",
    "#optimizer = optim.SGD(model.parameters(), lr=1e-1)\n",
    "\n",
    "epochs = 100\n",
    "batch_size = 40\n",
    "batch = X_train.shape[0] // batch_size\n",
    "\n",
    "torch_dataset = Data.TensorDataset(torch.tensor(X_train), torch.tensor(Y_train))\n",
    "# 把 dataset 放入 DataLoader\n",
    "loader = Data.DataLoader(\n",
    "    dataset=torch_dataset,  # torch TensorDataset format\n",
    "    batch_size=batch_size,  # mini batch size\n",
    "    shuffle=True,  #\n",
    "    num_workers=2,  # 多线程来读数据\n",
    ")\n",
    "\n",
    "loss_epoch = np.zeros(epochs)\n",
    "acc_epoch = np.zeros(epochs)\n",
    "for epoch in range(epochs):\n",
    "    acc_epo = 0\n",
    "    loss_ep = np.array([])\n",
    "    acc_ep = np.array([])\n",
    "    for step,(var_x,var_y) in enumerate(loader):\n",
    "        out = model(var_x)\n",
    "        out_f = out.detach().clone().numpy()\n",
    "        var_yf = var_y.detach().clone().numpy()\n",
    "        loss = criterion(out, var_y)\n",
    "        loss_f = loss.detach().clone().numpy()\n",
    "        acc_ep = np.append(acc_ep,acc(out_f,var_yf))\n",
    "        loss_ep = np.append(loss_ep,loss_f)\n",
    "\n",
    "        optimizer.zero_grad()\n",
    "        loss.backward()\n",
    "        optimizer.step()\n",
    "        \n",
    "    if (epoch + 1) % 10 == 0:\n",
    "        #print(f'Epoch: {epoch:5d}, Loss: {loss.item():.4e}, Acc:{acc_epo/(X_train.shape[0]*X_train.shape[1]):.4e}')\n",
    "        print(f'Epoch: {epoch:5d}, Loss: {np.mean(loss_ep):.4e}, ACC: {np.mean(acc_ep):.5e}')\n",
    "        \n",
    "    loss_epoch[epoch] = np.mean(loss_ep)\n",
    "    acc_epoch[epoch] = np.mean(acc_ep)"
   ]
  },
  {
   "cell_type": "code",
   "execution_count": 18,
   "metadata": {},
   "outputs": [],
   "source": [
    "# test\n",
    "X_valid = X_valid.reshape(-1,198,240)\n",
    "#X_valid = torch.from_numpy(X_valid)\n",
    "Y_pred = model(X_valid)\n",
    "\n",
    "kind = 3\n",
    "Y_pred = torch.squeeze(Y_pred,2)\n",
    "Y_pred = Y_pred.clone().detach().numpy()\n",
    "pred_acc = acc(Y_pred,Y_valid)"
   ]
  },
  {
   "cell_type": "code",
   "execution_count": 19,
   "metadata": {},
   "outputs": [
    {
     "data": {
      "image/png": "[encoded data removed]",
      "text/plain": [
       "<Figure size 432x288 with 1 Axes>"
      ]
     },
     "metadata": {
      "needs_background": "light"
     },
     "output_type": "display_data"
    }
   ],
   "source": [
    "Y_pred_re = Y_pred[:,kind]\n",
    "Y_pred_re[Y_pred_re>0] = 1\n",
    "Y_pred_re[Y_pred_re<=0] = 0\n",
    "k = len(Y_pred_re)\n",
    "series = np.arange(1,k,k//100)\n",
    "\n",
    "fig = plt.figure()\n",
    "ax = plt.subplot()\n",
    "type1 = ax.scatter(index_valid[series], Y_valid[series,kind], alpha=0.5,color='b',label='groundtruth') \n",
    "type2 = ax.scatter(index_valid[series], Y_pred_re[series], alpha=0.3,color='r',label='prediction') \n",
    "plt.xlabel(\"date time\")\n",
    "plt.ylabel(\"0 for fall, 1 for rise\")\n",
    "ax.legend((type1, type2), (u'groundtruth', u'prediction'), loc='best')\n",
    "plt.show()"
   ]
  },
  {
   "cell_type": "code",
   "execution_count": 20,
   "metadata": {},
   "outputs": [
    {
     "data": {
      "image/png": "[encoded data removed]",
      "text/plain": [
       "<Figure size 432x288 with 1 Axes>"
      ]
     },
     "metadata": {
      "needs_background": "light"
     },
     "output_type": "display_data"
    }
   ],
   "source": [
    "plt.plot(loss_epoch, 'r-', label='loss')\n",
    "plt.plot(acc_epoch, 'b-', label='accurate rate')\n",
    "plt.legend(loc='best')\n",
    "plt.show()"
   ]
  },
  {
   "cell_type": "code",
   "execution_count": 21,
   "metadata": {},
   "outputs": [
    {
     "name": "stderr",
     "output_type": "stream",
     "text": [
      "<ipython-input-21-a368c29abcac>:12: UserWarning: To copy construct from a tensor, it is recommended to use sourceTensor.clone().detach() or sourceTensor.clone().detach().requires_grad_(True), rather than torch.tensor(sourceTensor).\n",
      "  torch_dataset = Data.TensorDataset(torch.tensor(X_train), torch.tensor(Y_train))\n"
     ]
    },
    {
     "name": "stdout",
     "output_type": "stream",
     "text": [
      "Epoch:     9, Loss: 6.9120e-01, ACC: 4.68052e-01\n",
      "Epoch:    19, Loss: 6.9084e-01, ACC: 4.67413e-01\n",
      "Epoch:    29, Loss: 6.9066e-01, ACC: 4.67682e-01\n",
      "Epoch:    39, Loss: 6.9058e-01, ACC: 4.68254e-01\n",
      "Epoch:    49, Loss: 6.9046e-01, ACC: 4.67958e-01\n",
      "Epoch:    59, Loss: 6.9017e-01, ACC: 4.68106e-01\n",
      "Epoch:    69, Loss: 6.9007e-01, ACC: 4.65772e-01\n",
      "Epoch:    79, Loss: 6.8947e-01, ACC: 4.66573e-01\n",
      "Epoch:    89, Loss: 6.8924e-01, ACC: 4.65867e-01\n",
      "Epoch:    99, Loss: 6.8975e-01, ACC: 4.67736e-01\n"
     ]
    }
   ],
   "source": [
    "model = LSTMRegression(input_size=240, hidden_size=3, output_size=1)\n",
    "\n",
    "criterion = torch.nn.BCEWithLogitsLoss()     #交叉熵BCEWithLogitsLoss()和MultiLabelSoftMarginLoss()\n",
    "#criterion = torch.nn.CrossEntropyLoss()\n",
    "optimizer = optim.Adam(model.parameters(), lr=1e-3)\n",
    "#optimizer = optim.SGD(model.parameters(), lr=1e-1)\n",
    "\n",
    "epochs = 100\n",
    "batch_size = 40\n",
    "batch = X_train.shape[0] // batch_size\n",
    "\n",
    "torch_dataset = Data.TensorDataset(torch.tensor(X_train), torch.tensor(Y_train))\n",
    "# 把 dataset 放入 DataLoader\n",
    "loader = Data.DataLoader(\n",
    "    dataset=torch_dataset,  # torch TensorDataset format\n",
    "    batch_size=batch_size,  # mini batch size\n",
    "    shuffle=True,  #\n",
    "    num_workers=2,  # 多线程来读数据\n",
    ")\n",
    "\n",
    "loss_epoch = np.zeros(epochs)\n",
    "acc_epoch = np.zeros(epochs)\n",
    "for epoch in range(epochs):\n",
    "    acc_epo = 0\n",
    "    loss_ep = np.array([])\n",
    "    acc_ep = np.array([])\n",
    "    for step,(var_x,var_y) in enumerate(loader):\n",
    "        out = model(var_x)\n",
    "        out_f = out.detach().clone().numpy()\n",
    "        var_yf = var_y.detach().clone().numpy()\n",
    "        loss = criterion(out, var_y)\n",
    "        loss_f = loss.detach().clone().numpy()\n",
    "        acc_ep = np.append(acc_ep,acc(out_f,var_yf))\n",
    "        loss_ep = np.append(loss_ep,loss_f)\n",
    "\n",
    "        optimizer.zero_grad()\n",
    "        loss.backward()\n",
    "        optimizer.step()\n",
    "        \n",
    "    if (epoch + 1) % 10 == 0:\n",
    "        #print(f'Epoch: {epoch:5d}, Loss: {loss.item():.4e}, Acc:{acc_epo/(X_train.shape[0]*X_train.shape[1]):.4e}')\n",
    "        print(f'Epoch: {epoch:5d}, Loss: {np.mean(loss_ep):.4e}, ACC: {np.mean(acc_ep):.5e}')\n",
    "        \n",
    "    loss_epoch[epoch] = np.mean(loss_ep)\n",
    "    acc_epoch[epoch] = np.mean(acc_ep)"
   ]
  },
  {
   "cell_type": "code",
   "execution_count": 22,
   "metadata": {},
   "outputs": [],
   "source": [
    "# test\n",
    "X_valid = X_valid.reshape(-1,198,240)\n",
    "#X_valid = torch.from_numpy(X_valid)\n",
    "Y_pred = model(X_valid)\n",
    "\n",
    "kind = 3\n",
    "Y_pred = torch.squeeze(Y_pred,2)\n",
    "Y_pred = Y_pred.clone().detach().numpy()\n",
    "pred_acc = acc(Y_pred,Y_valid)"
   ]
  },
  {
   "cell_type": "code",
   "execution_count": 23,
   "metadata": {},
   "outputs": [
    {
     "data": {
      "image/png": "[encoded data removed]",
      "text/plain": [
       "<Figure size 432x288 with 1 Axes>"
      ]
     },
     "metadata": {
      "needs_background": "light"
     },
     "output_type": "display_data"
    }
   ],
   "source": [
    "Y_pred_re = Y_pred[:,kind]\n",
    "Y_pred_re[Y_pred_re>0] = 1\n",
    "Y_pred_re[Y_pred_re<=0] = 0\n",
    "k = len(Y_pred_re)\n",
    "series = np.arange(1,k,k//100)\n",
    "\n",
    "fig = plt.figure()\n",
    "ax = plt.subplot()\n",
    "type1 = ax.scatter(index_valid[series], Y_valid[series,kind], alpha=0.5,color='b',label='groundtruth') \n",
    "type2 = ax.scatter(index_valid[series], Y_pred_re[series], alpha=0.3,color='r',label='prediction') \n",
    "plt.xlabel(\"date time\")\n",
    "plt.ylabel(\"0 for fall, 1 for rise\")\n",
    "ax.legend((type1, type2), (u'groundtruth', u'prediction'), loc='best')\n",
    "plt.show()"
   ]
  },
  {
   "cell_type": "code",
   "execution_count": 24,
   "metadata": {},
   "outputs": [
    {
     "data": {
      "image/png": "[encoded data removed]",
      "text/plain": [
       "<Figure size 432x288 with 1 Axes>"
      ]
     },
     "metadata": {
      "needs_background": "light"
     },
     "output_type": "display_data"
    }
   ],
   "source": [
    "plt.plot(loss_epoch, 'r-', label='loss')\n",
    "plt.plot(acc_epoch, 'b-', label='accurate rate')\n",
    "plt.legend(loc='best')\n",
    "plt.show()"
   ]
  },
  {
   "cell_type": "code",
   "execution_count": null,
   "metadata": {},
   "outputs": [],
   "source": []
  }
 ],
 "metadata": {
  "kernelspec": {
   "display_name": "Python 3",
   "language": "python",
   "name": "python3"
  },
  "language_info": {
   "codemirror_mode": {
    "name": "ipython",
    "version": 3
   },
   "file_extension": ".py",
   "mimetype": "text/x-python",
   "name": "python",
   "nbconvert_exporter": "python",
   "pygments_lexer": "ipython3",
   "version": "3.8.5"
  }
 },
 "nbformat": 4,
 "nbformat_minor": 4
}
