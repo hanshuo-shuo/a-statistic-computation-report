{
 "cells": [
  {
   "cell_type": "markdown",
   "id": "712dc1cd",
   "metadata": {},
   "source": [
    "## 框架"
   ]
  },
  {
   "cell_type": "code",
   "execution_count": null,
   "id": "4f80378f",
   "metadata": {},
   "outputs": [],
   "source": [
    "class LSTMRegression(nn.Module):\n",
    "    def __init__(self, input_size, hidden_size, output_size=1,num_layers=1):\n",
    "        super().__init__()\n",
    "        self.lstm = nn.LSTM(input_size, hidden_size, num_layers, batch_first=True)\n",
    "        self.linear = nn.Linear(hidden_size, output_size)\n",
    "    def forward(self, x):\n",
    "        _, (hn, cn) = self.lstm(x) \n",
    "        hn = hn.squeeze()\n",
    "        out = self.linear(hn) \n",
    "        return out"
   ]
  },
  {
   "cell_type": "markdown",
   "id": "05a7b18c",
   "metadata": {},
   "source": [
    "## Training"
   ]
  },
  {
   "cell_type": "code",
   "execution_count": null,
   "id": "f857aac5",
   "metadata": {},
   "outputs": [],
   "source": [
    "model=LSTMRegression(input_size=1, hidden_size=5, output_size=1):\n",
    "criterion = torch.nn.BCEWithLogitsLoss() #交 叉 熵BCEWithLogitsLoss() 和 MultiLabelSoftMarginLoss()\n",
    "#criterion = torch.nn.CrossEntropyLoss()\n",
    "optimizer = optim.Adam(model.parameters(), lr=1e-3)\n",
    "#optimizer = optim.SGD(model.parameters(), lr=1e-1)\n",
    "epochs = 100\n",
    "batch_size = 30\n",
    "batch = X_train.shape[0] // batch_size\n",
    "\n",
    "torch_dataset = Data.TensorDataset(torch.tensor(X_train), torch.tensor(Y_train))\n",
    "# 把 dataset 放 入 DataLoader\n",
    "loader = Data.DataLoader(dataset=torch_dataset, # torch TensorDataset format\n",
    "                         batch_size=batch_size, # mini batch size\n",
    "                         shuffle=True, #\n",
    "                         num_workers=10, # 多线程来读数据\n",
    "                        )\n",
    "loss_epoch = np.zeros(epochs)\n",
    "acc_epoch = np.zeros(epochs)\n",
    "loss_valid = np.zeros(epochs)\n",
    "acc_valid = np.zeros(epochs)\n",
    "for epoch in range(epochs): \n",
    "    loss_ep = np.array([]) \n",
    "    acc_ep = np.array([]) \n",
    "    loss_epv = np.array([]) \n",
    "    acc_epv = np.array([])\n",
    "    for step,(var_x,var_y) in enumerate(loader): \n",
    "        out = model(var_x)\n",
    "        out_f = out.detach().clone().numpy() \n",
    "        var_yf = var_y.detach().clone().numpy() \n",
    "        loss = criterion(out, var_y)\n",
    "        loss_f = loss.detach().clone().numpy() \n",
    "        acc_ep = np.append(acc_ep,acc(out_f,var_yf)) \n",
    "        loss_ep = np.append(loss_ep,loss_f)\n",
    "        optimizer.zero_grad()\n",
    "\n",
    "\n",
    "        loss.backward()\n",
    "        optimizer.step()\n",
    "\n",
    "    if (epoch + 1) % 5 == 0:\n",
    "        print(f'Epoch: {epoch:5d}, Loss: {np.mean(loss_ep):.4e}, Acc:{np.mean(acc_ep):.4e}')\n",
    "\n",
    "    loss_epoch[epoch] = np.mean(loss_ep)\n",
    "    acc_epoch[epoch] = np.mean(acc_ep)\n",
    "\n",
    "    Y_pre=model(X_valid) #计算验证集表现\n",
    "    Y_pre1 = Y_pre.clone().detach().numpy()\n",
    "    Y_valid1 = torch.from_numpy(Y_valid)\n",
    "    loss_valid[epoch] = criterion(Y_pre,Y_valid1)\n",
    "    acc_valid[epoch] = acc(Y_pre1,Y_valid)\n"
   ]
  },
  {
   "cell_type": "markdown",
   "id": "5527db3a",
   "metadata": {},
   "source": [
    "## Testing"
   ]
  },
  {
   "cell_type": "code",
   "execution_count": null,
   "id": "67715930",
   "metadata": {},
   "outputs": [],
   "source": [
    "# test\n",
    "#X = X.reshape(-1,198,240)\n",
    "#X = torch.from_numpy(X_valid)\n",
    "Y_pred = model(X_valid)\n",
    "Y_pred = Y_pred.clone().detach().numpy()\n",
    "pred_acc = acc(Y_pred,Y_valid)\n",
    "#Y_pred = Y_pred.view(-1).data.numpy()\n"
   ]
  },
  {
   "cell_type": "markdown",
   "id": "c6b4445d",
   "metadata": {},
   "source": [
    "## Visualize"
   ]
  },
  {
   "cell_type": "code",
   "execution_count": null,
   "id": "e25d7824",
   "metadata": {},
   "outputs": [],
   "source": [
    "# visulize\n",
    "kind=2\n",
    "series = np.arange(kind*len(index_valid),(kind+1)*len(index_valid))\n",
    "Y_pred_re = Y_pred\n",
    "Y_pred_re[Y_pred_re>0] = 1\n",
    "Y_pred_re[Y_pred_re<=0] = 0\n",
    "\n",
    "fig = plt.figure()\n",
    "ax = plt.subplot()\n",
    "type1 = ax.scatter(index_valid, Y_valid[series], alpha=0.5,color='b',label='groundtruth')\n",
    "type2 = ax.scatter(index_valid, Y_pred_re[series], alpha=0.3,color='r',label='prediction')\n",
    "\n",
    "\n",
    "plt.xlabel(\"date time\")\n",
    "plt.ylabel(\"0 for fall, 1 for rise\")\n",
    "ax.legend((type1, type2), (u'groundtruth', u'prediction'), loc='best')\n",
    "plt.show()\n",
    "\n",
    "plt.plot(acc_valid, 'r-', label='validation acc')\n",
    "plt.plot(acc_epoch, 'b-', label='prediction acc')\n",
    "plt.legend(loc='best')\n",
    "plt.savefig(\"acc.png\")\n",
    "plt.show()\n",
    "\n",
    "plt.plot(loss_valid, 'r-', label='validation loss')\n",
    "plt.plot(loss_epoch, 'b-', label='prediction loss')\n",
    "plt.legend(loc='best')\n",
    "plt.savefig(\"loss.png\")\n",
    "plt.show()"
   ]
  }
 ],
 "metadata": {
  "kernelspec": {
   "display_name": "Python 3",
   "language": "python",
   "name": "python3"
  },
  "language_info": {
   "codemirror_mode": {
    "name": "ipython",
    "version": 3
   },
   "file_extension": ".py",
   "mimetype": "text/x-python",
   "name": "python",
   "nbconvert_exporter": "python",
   "pygments_lexer": "ipython3",
   "version": "3.8.8"
  }
 },
 "nbformat": 4,
 "nbformat_minor": 5
}
