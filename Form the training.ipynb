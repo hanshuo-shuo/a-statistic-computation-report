{
 "cells": [
  {
   "cell_type": "code",
   "execution_count": 2,
   "id": "c99cb5c2",
   "metadata": {},
   "outputs": [],
   "source": [
    "import torch\n",
    "import torch.nn as nn\n",
    "from torch.nn import functional as F\n",
    "from torch import optim\n",
    "import numpy as np\n",
    "import pandas as pd\n",
    "import matplotlib.pyplot as plt"
   ]
  },
  {
   "cell_type": "code",
   "execution_count": null,
   "id": "9ec3b756",
   "metadata": {},
   "outputs": [],
   "source": [
    "data0 = pd.read_excel(\"D:/mathematical experiment/code/code/2011-2020price.xlsx\")\n",
    "col_name = list(data0.columns)\n",
    "data = data0[col_name[1:]]\n",
    "index = data0[col_name[0]]\n",
    "# plt.plot(data)\n",
    "# plt.show()"
   ]
  },
  {
   "cell_type": "code",
   "execution_count": null,
   "id": "9264cd0d",
   "metadata": {},
   "outputs": [],
   "source": [
    "dataset = data.dropna().values.astype('float32')\n",
    "dataset = dataset.reshape(-1,1)\n",
    "print(dataset.shape)"
   ]
  },
  {
   "cell_type": "code",
   "execution_count": null,
   "id": "b10125f5",
   "metadata": {},
   "outputs": [],
   "source": [
    "look_back = 240\n",
    "index_used = index[look_back:]\n",
    "index_used = np.array(index_used)\n",
    "X, Y = create_dataset(dataset,look_back)\n",
    "print(X.shape, Y.shape)\n",
    "a,b,c = X.shape\n",
    "\n",
    "train_size = int(len(X) * 0.9)\n",
    "valid_size = len(X) - train_size\n",
    "index_size = int(len(index_used)*0.9)\n",
    "print(train_size, valid_size)\n",
    "\n",
    "X_train = X[:train_size]\n",
    "Y_train = Y[:train_size]\n",
    "index_train = index_used[:index_size]\n",
    "\n",
    "X_valid = X[train_size:]\n",
    "Y_valid = Y[train_size:]\n",
    "index_valid = index_used[index_size:]\n",
    "\n",
    " # X_train = X_train.reshape(-1,198,240)\n",
    " # X_valid = X_valid.reshape(-1,198,240)\n",
    " # Y_train = Y_train.reshape(-1,198,1)\n",
    "\n",
    "X_train = X_train.reshape(train_size*c,b,1)\n",
    "Y_train = Y_train.reshape(train_size*c,1)\n",
    "X_valid = X_valid.reshape(valid_size*c,b,1)\n",
    "Y_valid = Y_valid.reshape(valid_size*c,1)\n",
    " # X_train = X_train.transpose(1, 0, 2)\n",
    " # X_valid = X_valid.transpose(1, 0, 2)\n",
    "\n",
    "X_train = torch.from_numpy(X_train)\n",
    "Y_train = torch.from_numpy(Y_train)\n",
    "X_valid = torch.from_numpy(X_valid)\n",
    "print(X_train.shape,Y_train.shape)"
   ]
  },
  {
   "cell_type": "code",
   "execution_count": null,
   "id": "ebe77905",
   "metadata": {},
   "outputs": [],
   "source": [
    "index_train = index[:index_size]\n",
    "index_valid = index[int(len(index)*0.9):]\n",
    "index_valid.shape\n",
    "X.shape"
   ]
  }
 ],
 "metadata": {
  "kernelspec": {
   "display_name": "Python 3",
   "language": "python",
   "name": "python3"
  },
  "language_info": {
   "codemirror_mode": {
    "name": "ipython",
    "version": 3
   },
   "file_extension": ".py",
   "mimetype": "text/x-python",
   "name": "python",
   "nbconvert_exporter": "python",
   "pygments_lexer": "ipython3",
   "version": "3.8.8"
  }
 },
 "nbformat": 4,
 "nbformat_minor": 5
}
