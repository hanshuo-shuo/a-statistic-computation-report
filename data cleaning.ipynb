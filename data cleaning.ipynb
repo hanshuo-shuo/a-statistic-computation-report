{
 "cells": [
  {
   "cell_type": "code",
   "execution_count": 2,
   "id": "7b9e38ca",
   "metadata": {},
   "outputs": [],
   "source": [
    "# split a univariate sequence into samples\n",
    "def split_sequence(sequence, n_steps):\n",
    "    X, y = [], []\n",
    "    for i in range(len(sequence)):\n",
    "    # find the end of this pattern end_idx = i + n_steps\n",
    "    # check if we are beyond the sequence \n",
    "        if end_idx > len(sequence) - 1:\n",
    "            break\n",
    "        # gather input and output parts if the pattern\n",
    "        seq_x, seq_y = sequence[i:end_idx], sequence[end_idx] \n",
    "        X.append(seq_x)\n",
    "        y.append(seq_y)\n",
    "    return np.array(X), np.array(y)"
   ]
  },
  {
   "cell_type": "code",
   "execution_count": 3,
   "id": "1a43c1e1",
   "metadata": {},
   "outputs": [],
   "source": [
    "def centralize(data):\n",
    "    min_value = np.min(data,axis=0)\n",
    "    max_value = np.max(data,axis=0)\n",
    "    data = (data - min_value) / (max_value-min_value) \n",
    "    return data"
   ]
  },
  {
   "cell_type": "code",
   "execution_count": 5,
   "id": "6adf968a",
   "metadata": {},
   "outputs": [],
   "source": [
    "def judge(dataset,k):\n",
    "    \"\"\"to see the trend of a stock at day k\n",
    "    \"\"\"\n",
    "    pr_today = dataset[k]\n",
    "    pr_yesterday = dataset[k-1]\n",
    "    pr_change = pr_today - pr_yesterday\n",
    "    med = np.median(pr_change)\n",
    "    re = np.zeros_like(pr_change) \n",
    "    re[pr_change>0] = 1\n",
    "    return(re)"
   ]
  },
  {
   "cell_type": "code",
   "execution_count": 6,
   "id": "774f2cc1",
   "metadata": {},
   "outputs": [],
   "source": [
    "def create_dataset(dataset,look_back=240): \n",
    "    dataX,dataY=[],[]\n",
    "    for i in range(len(dataset)-look_back): \n",
    "        pr_change = judge(dataset,i+look_back) \n",
    "        a = dataset[i:(i+look_back)] \n",
    "        dataX.append(a) \n",
    "        dataY.append(pr_change)\n",
    "    return np.array(dataX),np.array(dataY)"
   ]
  },
  {
   "cell_type": "code",
   "execution_count": null,
   "id": "ae50b9d5",
   "metadata": {},
   "outputs": [],
   "source": []
  }
 ],
 "metadata": {
  "kernelspec": {
   "display_name": "Python 3",
   "language": "python",
   "name": "python3"
  },
  "language_info": {
   "codemirror_mode": {
    "name": "ipython",
    "version": 3
   },
   "file_extension": ".py",
   "mimetype": "text/x-python",
   "name": "python",
   "nbconvert_exporter": "python",
   "pygments_lexer": "ipython3",
   "version": "3.8.8"
  }
 },
 "nbformat": 4,
 "nbformat_minor": 5
}
